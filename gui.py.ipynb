{
 "cells": [
  {
   "cell_type": "code",
   "execution_count": 1,
   "id": "3dd8e2c1",
   "metadata": {},
   "outputs": [],
   "source": [
    "# Importing Necessary Libraries\n",
    "import tkinter as tk\n",
    "from tkinter import filedialog\n",
    "from tkinter import *\n",
    "from PIL import Image,ImageTk\n",
    "import numpy\n",
    "import numpy as np"
   ]
  },
  {
   "cell_type": "code",
   "execution_count": 7,
   "id": "257f21dc",
   "metadata": {},
   "outputs": [
    {
     "name": "stdout",
     "output_type": "stream",
     "text": [
      "WARNING:tensorflow:From C:\\documents\\New folder\\Lib\\site-packages\\keras\\src\\backend.py:1398: The name tf.executing_eagerly_outside_functions is deprecated. Please use tf.compat.v1.executing_eagerly_outside_functions instead.\n",
      "\n",
      "WARNING:tensorflow:From C:\\documents\\New folder\\Lib\\site-packages\\keras\\src\\layers\\pooling\\max_pooling2d.py:161: The name tf.nn.max_pool is deprecated. Please use tf.nn.max_pool2d instead.\n",
      "\n"
     ]
    }
   ],
   "source": [
    "# Loading the Model\n",
    "from keras.models import load_model\n",
    "model = load_model(r\"C:\\New folder\\ukt face project\\Age_Sex_Detection.h5\")\n"
   ]
  },
  {
   "cell_type": "code",
   "execution_count": 8,
   "id": "a9c9907c",
   "metadata": {},
   "outputs": [],
   "source": [
    "# Initializing the GUI\n",
    "top=tk.Tk()\n",
    "top.geometry('800x600')\n",
    "top.title('Age & Gender Detector')\n",
    "top.configure(background='#CDCDCD')"
   ]
  },
  {
   "cell_type": "code",
   "execution_count": 9,
   "id": "9f18902e",
   "metadata": {},
   "outputs": [],
   "source": [
    "# Initializing the Labels (1 for age and 1 for Sex)\n",
    "label1=Label(top,background=\"#CDCDCD\",font=('arial',15,\"bold\"))\n",
    "label2=Label(top,background=\"#CDCDCD\",font=('arial',15,'bold'))\n",
    "sign_image=Label(top)"
   ]
  },
  {
   "cell_type": "code",
   "execution_count": 10,
   "id": "12364d54",
   "metadata": {},
   "outputs": [],
   "source": [
    "# Definig Detect fuction which detects the age and gender of the person in image using the model\n",
    "def Detect(file_path):\n",
    "    global label_packed\n",
    "    image=Image.open(file_path)\n",
    "    image=image.resize((48,48))\n",
    "    image=numpy.expand_dims(image,axis=0)\n",
    "    image=np.array(image)\n",
    "    image=np.delete(image,0,1)\n",
    "    image=np.resize(image,(48,48,3))\n",
    "    print (image.shape)\n",
    "    sex_f=[\"Male\",\"Female\"]\n",
    "    image=np.array([image])/255\n",
    "    pred=model.predict(image)\n",
    "    age=int(np.round(pred[1][0]))\n",
    "    sex=int(np.round(pred[0][0]))\n",
    "    print(\"Predicted Age is \"+ str(age))\n",
    "    print(\"Predicted Gender is \"+sex_f[sex])\n",
    "    label1.configure(foreground=\"#011638\",text=age)\n",
    "    label2.configure(foreground=\"#011638\",text=sex_f[sex])"
   ]
  },
  {
   "cell_type": "code",
   "execution_count": 11,
   "id": "5611ab06",
   "metadata": {},
   "outputs": [],
   "source": [
    "# Defining Show_detect button function\n",
    "def show_Detect_button(file_path):\n",
    "    Detect_b=Button(top,text=\"Detect Image\",command=lambda: Detect(file_path),padx=10,pady=5)\n",
    "    Detect_b.configure(background=\"#364156\",foreground='white',font=('arial',10,'bold'))\n",
    "    Detect_b.place(relx=0.79,rely=0.46) \n",
    "    "
   ]
  },
  {
   "cell_type": "code",
   "execution_count": 12,
   "id": "45141215",
   "metadata": {},
   "outputs": [],
   "source": [
    "# Definig Upload Image Function\n",
    "def upload_image():\n",
    "    try:\n",
    "        file_path=filedialog.askopenfilename()\n",
    "        uploaded=Image.open(file_path)\n",
    "        uploaded.thumbnail(((top.winfo_width()/2.25),(top.winfo_height()/2.25)))\n",
    "        im=ImageTk.PhotoImage(uploaded)\n",
    "\n",
    "        sign_image.configure(image=im)\n",
    "        sign_image.image=im\n",
    "        label1.configure(text='')\n",
    "        label2.configure(text='')\n",
    "        show_Detect_button(file_path)\n",
    "    except:\n",
    "        pass"
   ]
  },
  {
   "cell_type": "code",
   "execution_count": 13,
   "id": "22d07f58",
   "metadata": {},
   "outputs": [
    {
     "name": "stdout",
     "output_type": "stream",
     "text": [
      "(48, 48, 3)\n",
      "1/1 [==============================] - 0s 430ms/step\n",
      "Predicted Age is 83\n",
      "Predicted Gender is Male\n",
      "(48, 48, 3)\n",
      "1/1 [==============================] - 0s 32ms/step\n",
      "Predicted Age is 64\n",
      "Predicted Gender is Male\n",
      "(48, 48, 3)\n",
      "1/1 [==============================] - 0s 32ms/step\n",
      "Predicted Age is 60\n",
      "Predicted Gender is Male\n",
      "(48, 48, 3)\n",
      "1/1 [==============================] - 0s 45ms/step\n",
      "Predicted Age is 2\n",
      "Predicted Gender is Male\n"
     ]
    }
   ],
   "source": [
    "upload=Button(top,text=\"Upload an Image\",command=upload_image,padx=10,pady=5)\n",
    "upload.configure(background=\"#364156\",foreground='white',font=('arial',10,'bold'))\n",
    "upload.pack(side='bottom',pady=50)\n",
    "sign_image.pack(side='bottom',expand=True)\n",
    "label1.pack(side=\"bottom\",expand=True)\n",
    "label2.pack(side=\"bottom\",expand=True)\n",
    "heading=Label(top,text=\"Age and Gender Detector\",pady=20,font=('arial',20,\"bold\"))\n",
    "heading.configure(background=\"#CDCDCD\",foreground=\"#364156\")\n",
    "heading.pack()\n",
    "top.mainloop()"
   ]
  },
  {
   "cell_type": "code",
   "execution_count": null,
   "id": "07e02955",
   "metadata": {},
   "outputs": [],
   "source": []
  },
  {
   "cell_type": "code",
   "execution_count": null,
   "id": "7710a104",
   "metadata": {},
   "outputs": [],
   "source": []
  },
  {
   "cell_type": "code",
   "execution_count": null,
   "id": "5a0ba7f6",
   "metadata": {},
   "outputs": [],
   "source": []
  },
  {
   "cell_type": "code",
   "execution_count": null,
   "id": "0fadcb93",
   "metadata": {},
   "outputs": [],
   "source": []
  }
 ],
 "metadata": {
  "kernelspec": {
   "display_name": "Python 3 (ipykernel)",
   "language": "python",
   "name": "python3"
  },
  "language_info": {
   "codemirror_mode": {
    "name": "ipython",
    "version": 3
   },
   "file_extension": ".py",
   "mimetype": "text/x-python",
   "name": "python",
   "nbconvert_exporter": "python",
   "pygments_lexer": "ipython3",
   "version": "3.11.5"
  }
 },
 "nbformat": 4,
 "nbformat_minor": 5
}
